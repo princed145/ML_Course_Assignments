{
 "cells": [
  {
   "cell_type": "code",
   "execution_count": 99,
   "id": "a8ba86cd",
   "metadata": {},
   "outputs": [],
   "source": [
    "import pandas as pd\n",
    "from sklearn.linear_model import LogisticRegression\n",
    "from sklearn.model_selection import train_test_split, cross_val_score\n",
    "from sklearn.metrics import *\n",
    "from sklearn.neighbors import KNeighborsClassifier\n",
    "from sklearn import svm\n",
    "from statistics import mean"
   ]
  },
  {
   "cell_type": "code",
   "execution_count": 14,
   "id": "5b1e8338",
   "metadata": {},
   "outputs": [],
   "source": [
    "# Reading the CSV file by specifying the column names \n",
    "colnames = ['AGE','YEAR', 'NODES_DETECTED', 'SURVIVAL_STATUS']   \n",
    "data = pd.read_csv('a1_data.csv',names=colnames, header=None)"
   ]
  },
  {
   "cell_type": "code",
   "execution_count": 16,
   "id": "3459faf4",
   "metadata": {},
   "outputs": [
    {
     "data": {
      "text/plain": [
       "AGE                2\n",
       "YEAR               1\n",
       "NODES_DETECTED     2\n",
       "SURVIVAL_STATUS    0\n",
       "dtype: int64"
      ]
     },
     "execution_count": 16,
     "metadata": {},
     "output_type": "execute_result"
    }
   ],
   "source": [
    "# checking for missing values \n",
    "data.isna().sum()"
   ]
  },
  {
   "cell_type": "code",
   "execution_count": 17,
   "id": "c4d31bde",
   "metadata": {},
   "outputs": [],
   "source": [
    "data['AGE'].fillna(data['AGE'].quantile(0.5), inplace=True)"
   ]
  },
  {
   "cell_type": "code",
   "execution_count": 18,
   "id": "e66b94bc",
   "metadata": {},
   "outputs": [],
   "source": [
    "data['YEAR'].fillna(data['YEAR'].loc[0], inplace=True)\n",
    "data['NODES_DETECTED'].fillna(data['NODES_DETECTED'].loc[0], inplace=True)"
   ]
  },
  {
   "cell_type": "code",
   "execution_count": 19,
   "id": "6372ab1a",
   "metadata": {},
   "outputs": [
    {
     "data": {
      "text/html": [
       "<div>\n",
       "<style scoped>\n",
       "    .dataframe tbody tr th:only-of-type {\n",
       "        vertical-align: middle;\n",
       "    }\n",
       "\n",
       "    .dataframe tbody tr th {\n",
       "        vertical-align: top;\n",
       "    }\n",
       "\n",
       "    .dataframe thead th {\n",
       "        text-align: right;\n",
       "    }\n",
       "</style>\n",
       "<table border=\"1\" class=\"dataframe\">\n",
       "  <thead>\n",
       "    <tr style=\"text-align: right;\">\n",
       "      <th></th>\n",
       "      <th>AGE</th>\n",
       "      <th>YEAR</th>\n",
       "      <th>NODES_DETECTED</th>\n",
       "      <th>SURVIVAL_STATUS</th>\n",
       "    </tr>\n",
       "  </thead>\n",
       "  <tbody>\n",
       "    <tr>\n",
       "      <th>count</th>\n",
       "      <td>306.000000</td>\n",
       "      <td>306.000000</td>\n",
       "      <td>306.000000</td>\n",
       "      <td>306.000000</td>\n",
       "    </tr>\n",
       "    <tr>\n",
       "      <th>mean</th>\n",
       "      <td>52.555556</td>\n",
       "      <td>62.846405</td>\n",
       "      <td>4.026144</td>\n",
       "      <td>1.264706</td>\n",
       "    </tr>\n",
       "    <tr>\n",
       "      <th>std</th>\n",
       "      <td>10.729086</td>\n",
       "      <td>3.245062</td>\n",
       "      <td>7.189197</td>\n",
       "      <td>0.441899</td>\n",
       "    </tr>\n",
       "    <tr>\n",
       "      <th>min</th>\n",
       "      <td>30.000000</td>\n",
       "      <td>58.000000</td>\n",
       "      <td>0.000000</td>\n",
       "      <td>1.000000</td>\n",
       "    </tr>\n",
       "    <tr>\n",
       "      <th>25%</th>\n",
       "      <td>44.000000</td>\n",
       "      <td>60.000000</td>\n",
       "      <td>0.000000</td>\n",
       "      <td>1.000000</td>\n",
       "    </tr>\n",
       "    <tr>\n",
       "      <th>50%</th>\n",
       "      <td>52.000000</td>\n",
       "      <td>63.000000</td>\n",
       "      <td>1.000000</td>\n",
       "      <td>1.000000</td>\n",
       "    </tr>\n",
       "    <tr>\n",
       "      <th>75%</th>\n",
       "      <td>60.750000</td>\n",
       "      <td>65.000000</td>\n",
       "      <td>4.000000</td>\n",
       "      <td>2.000000</td>\n",
       "    </tr>\n",
       "    <tr>\n",
       "      <th>max</th>\n",
       "      <td>83.000000</td>\n",
       "      <td>69.000000</td>\n",
       "      <td>52.000000</td>\n",
       "      <td>2.000000</td>\n",
       "    </tr>\n",
       "  </tbody>\n",
       "</table>\n",
       "</div>"
      ],
      "text/plain": [
       "              AGE        YEAR  NODES_DETECTED  SURVIVAL_STATUS\n",
       "count  306.000000  306.000000      306.000000       306.000000\n",
       "mean    52.555556   62.846405        4.026144         1.264706\n",
       "std     10.729086    3.245062        7.189197         0.441899\n",
       "min     30.000000   58.000000        0.000000         1.000000\n",
       "25%     44.000000   60.000000        0.000000         1.000000\n",
       "50%     52.000000   63.000000        1.000000         1.000000\n",
       "75%     60.750000   65.000000        4.000000         2.000000\n",
       "max     83.000000   69.000000       52.000000         2.000000"
      ]
     },
     "execution_count": 19,
     "metadata": {},
     "output_type": "execute_result"
    }
   ],
   "source": [
    "data.describe()"
   ]
  },
  {
   "cell_type": "code",
   "execution_count": 20,
   "id": "371719b5",
   "metadata": {},
   "outputs": [],
   "source": [
    "X = data[['AGE', 'YEAR', 'NODES_DETECTED']]\n",
    "Y = data['SURVIVAL_STATUS']"
   ]
  },
  {
   "cell_type": "code",
   "execution_count": 30,
   "id": "ae83e645",
   "metadata": {},
   "outputs": [],
   "source": [
    "x_train, x_test, y_train, y_test = train_test_split(X, Y)"
   ]
  },
  {
   "cell_type": "markdown",
   "id": "45af7426",
   "metadata": {},
   "source": [
    "**LOGISTICS REGRESSION**"
   ]
  },
  {
   "cell_type": "code",
   "execution_count": 31,
   "id": "592c0486",
   "metadata": {},
   "outputs": [
    {
     "data": {
      "text/plain": [
       "LogisticRegression()"
      ]
     },
     "execution_count": 31,
     "metadata": {},
     "output_type": "execute_result"
    }
   ],
   "source": [
    "clf = LogisticRegression()\n",
    "clf.fit(x_train, y_train)"
   ]
  },
  {
   "cell_type": "code",
   "execution_count": 32,
   "id": "b28fe95b",
   "metadata": {},
   "outputs": [],
   "source": [
    "y_pred = clf.predict(x_test)"
   ]
  },
  {
   "cell_type": "code",
   "execution_count": 33,
   "id": "7a116f71",
   "metadata": {},
   "outputs": [
    {
     "name": "stdout",
     "output_type": "stream",
     "text": [
      "0.6753246753246753\n",
      "0.6712328767123288\n",
      "0.98\n",
      "0.7967479674796748\n"
     ]
    }
   ],
   "source": [
    "# CLASSIFICATION MATRICS \n",
    "print(accuracy_score(y_test, y_pred))  \n",
    "print(precision_score(y_test, y_pred))\n",
    "print(recall_score(y_test, y_pred))\n",
    "print(f1_score(y_test, y_pred))"
   ]
  },
  {
   "cell_type": "code",
   "execution_count": 34,
   "id": "28e34241",
   "metadata": {},
   "outputs": [
    {
     "data": {
      "text/plain": [
       "array([[49,  1],\n",
       "       [24,  3]], dtype=int64)"
      ]
     },
     "execution_count": 34,
     "metadata": {},
     "output_type": "execute_result"
    }
   ],
   "source": [
    "# Confusion matrix for test set \n",
    "confusion_matrix(y_test, y_pred)"
   ]
  },
  {
   "cell_type": "code",
   "execution_count": 35,
   "id": "f85f4c52",
   "metadata": {},
   "outputs": [
    {
     "name": "stdout",
     "output_type": "stream",
     "text": [
      "[0.73076923 0.76923077 0.73076923 0.80769231 0.73076923 0.73076923\n",
      " 0.76       0.68       0.8        0.72       0.8        0.68      ]\n"
     ]
    }
   ],
   "source": [
    "# Cross Validation for 12 different Train-Test set \n",
    "print(cross_val_score(clf,X, Y, cv=12, scoring='accuracy'))"
   ]
  },
  {
   "cell_type": "markdown",
   "id": "38ba860e",
   "metadata": {},
   "source": [
    "Maximum able to get 80% accuracy with Logistics Regression model "
   ]
  },
  {
   "cell_type": "markdown",
   "id": "1d4074fe",
   "metadata": {},
   "source": [
    "**K NEAREST NEIGHBOUR**"
   ]
  },
  {
   "cell_type": "code",
   "execution_count": 139,
   "id": "e1aadb75",
   "metadata": {},
   "outputs": [],
   "source": [
    "knn = KNeighborsClassifier(n_neighbors=4)"
   ]
  },
  {
   "cell_type": "code",
   "execution_count": 140,
   "id": "ae7ba3d4",
   "metadata": {},
   "outputs": [
    {
     "data": {
      "text/plain": [
       "KNeighborsClassifier(n_neighbors=4)"
      ]
     },
     "execution_count": 140,
     "metadata": {},
     "output_type": "execute_result"
    }
   ],
   "source": [
    "knn.fit(x_train, y_train)"
   ]
  },
  {
   "cell_type": "code",
   "execution_count": 141,
   "id": "47949d5d",
   "metadata": {},
   "outputs": [],
   "source": [
    "y_pred = knn.predict(x_test)"
   ]
  },
  {
   "cell_type": "code",
   "execution_count": 142,
   "id": "f75cd385",
   "metadata": {},
   "outputs": [
    {
     "data": {
      "text/plain": [
       "array([[49,  1],\n",
       "       [21,  6]], dtype=int64)"
      ]
     },
     "execution_count": 142,
     "metadata": {},
     "output_type": "execute_result"
    }
   ],
   "source": [
    "confusion_matrix(y_test, y_pred)"
   ]
  },
  {
   "cell_type": "code",
   "execution_count": 144,
   "id": "1cca7c6c",
   "metadata": {},
   "outputs": [
    {
     "name": "stdout",
     "output_type": "stream",
     "text": [
      "[0.76923077 0.73076923 0.53846154 0.65384615 0.73076923 0.76923077\n",
      " 0.76       0.76       0.84       0.68       0.72       0.68      ]\n"
     ]
    }
   ],
   "source": [
    "print(cross_val_score(knn,X, Y, cv=12, scoring='accuracy'))"
   ]
  },
  {
   "cell_type": "code",
   "execution_count": 145,
   "id": "44f9cca3",
   "metadata": {},
   "outputs": [
    {
     "data": {
      "text/plain": [
       "0.7193589743589743"
      ]
     },
     "execution_count": 145,
     "metadata": {},
     "output_type": "execute_result"
    }
   ],
   "source": [
    "mean(cross_val_score(knn,X, Y, cv=12, scoring='accuracy'))"
   ]
  },
  {
   "cell_type": "markdown",
   "id": "3395ccf7",
   "metadata": {},
   "source": [
    "Maximum able to get 84% accuracy with KNN model and with average accuracy of 71.93% "
   ]
  },
  {
   "cell_type": "markdown",
   "id": "05604942",
   "metadata": {},
   "source": [
    "**SUPPORT VECTOR MACHINE**"
   ]
  },
  {
   "cell_type": "code",
   "execution_count": 92,
   "id": "94465974",
   "metadata": {},
   "outputs": [],
   "source": [
    "clf_svm = svm.SVC(kernel='linear')"
   ]
  },
  {
   "cell_type": "code",
   "execution_count": 94,
   "id": "7e8f81ad",
   "metadata": {},
   "outputs": [
    {
     "data": {
      "text/plain": [
       "SVC(kernel='linear')"
      ]
     },
     "execution_count": 94,
     "metadata": {},
     "output_type": "execute_result"
    }
   ],
   "source": [
    "clf_svm.fit(x_train, y_train)"
   ]
  },
  {
   "cell_type": "code",
   "execution_count": 96,
   "id": "4722204d",
   "metadata": {},
   "outputs": [],
   "source": [
    "y_pred = clf.predict(x_test)"
   ]
  },
  {
   "cell_type": "code",
   "execution_count": 97,
   "id": "8c993e7b",
   "metadata": {},
   "outputs": [
    {
     "data": {
      "text/plain": [
       "array([[49,  1],\n",
       "       [24,  3]], dtype=int64)"
      ]
     },
     "execution_count": 97,
     "metadata": {},
     "output_type": "execute_result"
    }
   ],
   "source": [
    "confusion_matrix(y_test, y_pred)"
   ]
  },
  {
   "cell_type": "code",
   "execution_count": 98,
   "id": "49000392",
   "metadata": {},
   "outputs": [
    {
     "name": "stdout",
     "output_type": "stream",
     "text": [
      "[0.69230769 0.76923077 0.73076923 0.73076923 0.73076923 0.73076923\n",
      " 0.72       0.76       0.76       0.68       0.72       0.72      ]\n"
     ]
    }
   ],
   "source": [
    "print(cross_val_score(clf_svm,X, Y, cv=12, scoring='accuracy'))"
   ]
  },
  {
   "cell_type": "code",
   "execution_count": 146,
   "id": "a21b12df",
   "metadata": {},
   "outputs": [
    {
     "data": {
      "text/plain": [
       "0.7287179487179487"
      ]
     },
     "execution_count": 146,
     "metadata": {},
     "output_type": "execute_result"
    }
   ],
   "source": [
    "mean(cross_val_score(clf_svm,X, Y, cv=12, scoring='accuracy'))"
   ]
  },
  {
   "cell_type": "markdown",
   "id": "e51581fa",
   "metadata": {},
   "source": [
    "Maximum able to get 73.0% accuracy with KNN model and with average accuracy of 72.87% "
   ]
  }
 ],
 "metadata": {
  "kernelspec": {
   "display_name": "Python 3",
   "language": "python",
   "name": "python3"
  },
  "language_info": {
   "codemirror_mode": {
    "name": "ipython",
    "version": 3
   },
   "file_extension": ".py",
   "mimetype": "text/x-python",
   "name": "python",
   "nbconvert_exporter": "python",
   "pygments_lexer": "ipython3",
   "version": "3.8.8"
  }
 },
 "nbformat": 4,
 "nbformat_minor": 5
}
