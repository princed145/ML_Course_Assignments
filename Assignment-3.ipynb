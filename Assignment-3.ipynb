{
 "cells": [
  {
   "cell_type": "code",
   "execution_count": 212,
   "id": "04666703",
   "metadata": {},
   "outputs": [],
   "source": [
    "import pandas as pd\n",
    "from sklearn.preprocessing import LabelEncoder, MinMaxScaler\n",
    "from sklearn.model_selection import train_test_split\n",
    "from sklearn.linear_model import LogisticRegression\n",
    "from sklearn.svm import SVC\n",
    "from sklearn.ensemble import RandomForestClassifier\n",
    "from sklearn.tree import DecisionTreeClassifier\n",
    "from sklearn.metrics import *\n",
    "import time\n",
    "import warnings\n",
    "warnings.filterwarnings('ignore')\n",
    "from sklearn.decomposition import PCA\n",
    "import matplotlib.pyplot as plt\n",
    "import numpy as np"
   ]
  },
  {
   "cell_type": "code",
   "execution_count": 213,
   "id": "14283b33",
   "metadata": {},
   "outputs": [],
   "source": [
    "# naming the columns According to the Descriptions \n",
    "col_names = ['ID', 'Target', 'radius_mean', 'texture_mean', 'perimeter_mean', 'area_mean', 'smoothness_mean', 'compactness', 'concavity_mean', 'concave_mean',\n",
    "            'symmetry_mean', 'fractal_mean', 'radius_se', 'texture_se', 'perimeter_se', 'area_se', 'smoothness_se', 'compactness_se','concavity_se', 'concave_se', \n",
    "             'symmetry_se', 'fractal_se', 'radius_worst', 'texture_worst', 'perimeter_worst', 'area_worst', 'smoothness_worst', 'compactness_worst',\n",
    "            'concavity_worst', 'concave_worst', 'symmetry_worst', 'fractal_worst']"
   ]
  },
  {
   "cell_type": "code",
   "execution_count": 214,
   "id": "0dfd2fa1",
   "metadata": {},
   "outputs": [],
   "source": [
    "data = pd.read_csv('a3.csv', names = col_names, header=None)"
   ]
  },
  {
   "cell_type": "code",
   "execution_count": 215,
   "id": "09db2fda",
   "metadata": {},
   "outputs": [],
   "source": [
    "# Dropping the ID Column as it is of no Use\n",
    "data = data.drop(columns = ['ID'])"
   ]
  },
  {
   "cell_type": "code",
   "execution_count": 216,
   "id": "dd56077f",
   "metadata": {},
   "outputs": [
    {
     "data": {
      "text/html": [
       "<div>\n",
       "<style scoped>\n",
       "    .dataframe tbody tr th:only-of-type {\n",
       "        vertical-align: middle;\n",
       "    }\n",
       "\n",
       "    .dataframe tbody tr th {\n",
       "        vertical-align: top;\n",
       "    }\n",
       "\n",
       "    .dataframe thead th {\n",
       "        text-align: right;\n",
       "    }\n",
       "</style>\n",
       "<table border=\"1\" class=\"dataframe\">\n",
       "  <thead>\n",
       "    <tr style=\"text-align: right;\">\n",
       "      <th></th>\n",
       "      <th>radius_mean</th>\n",
       "      <th>texture_mean</th>\n",
       "      <th>perimeter_mean</th>\n",
       "      <th>area_mean</th>\n",
       "      <th>smoothness_mean</th>\n",
       "      <th>compactness</th>\n",
       "      <th>concavity_mean</th>\n",
       "      <th>concave_mean</th>\n",
       "      <th>symmetry_mean</th>\n",
       "      <th>fractal_mean</th>\n",
       "      <th>...</th>\n",
       "      <th>radius_worst</th>\n",
       "      <th>texture_worst</th>\n",
       "      <th>perimeter_worst</th>\n",
       "      <th>area_worst</th>\n",
       "      <th>smoothness_worst</th>\n",
       "      <th>compactness_worst</th>\n",
       "      <th>concavity_worst</th>\n",
       "      <th>concave_worst</th>\n",
       "      <th>symmetry_worst</th>\n",
       "      <th>fractal_worst</th>\n",
       "    </tr>\n",
       "  </thead>\n",
       "  <tbody>\n",
       "    <tr>\n",
       "      <th>count</th>\n",
       "      <td>569.000000</td>\n",
       "      <td>569.000000</td>\n",
       "      <td>569.000000</td>\n",
       "      <td>569.000000</td>\n",
       "      <td>569.000000</td>\n",
       "      <td>569.000000</td>\n",
       "      <td>569.000000</td>\n",
       "      <td>569.000000</td>\n",
       "      <td>569.000000</td>\n",
       "      <td>569.000000</td>\n",
       "      <td>...</td>\n",
       "      <td>569.000000</td>\n",
       "      <td>569.000000</td>\n",
       "      <td>569.000000</td>\n",
       "      <td>569.000000</td>\n",
       "      <td>569.000000</td>\n",
       "      <td>569.000000</td>\n",
       "      <td>569.000000</td>\n",
       "      <td>569.000000</td>\n",
       "      <td>569.000000</td>\n",
       "      <td>569.000000</td>\n",
       "    </tr>\n",
       "    <tr>\n",
       "      <th>mean</th>\n",
       "      <td>14.127292</td>\n",
       "      <td>19.289649</td>\n",
       "      <td>91.969033</td>\n",
       "      <td>654.889104</td>\n",
       "      <td>0.096360</td>\n",
       "      <td>0.104341</td>\n",
       "      <td>0.088799</td>\n",
       "      <td>0.048919</td>\n",
       "      <td>0.181162</td>\n",
       "      <td>0.062798</td>\n",
       "      <td>...</td>\n",
       "      <td>16.269190</td>\n",
       "      <td>25.677223</td>\n",
       "      <td>107.261213</td>\n",
       "      <td>880.583128</td>\n",
       "      <td>0.132369</td>\n",
       "      <td>0.254265</td>\n",
       "      <td>0.272188</td>\n",
       "      <td>0.114606</td>\n",
       "      <td>0.290076</td>\n",
       "      <td>0.083946</td>\n",
       "    </tr>\n",
       "    <tr>\n",
       "      <th>std</th>\n",
       "      <td>3.524049</td>\n",
       "      <td>4.301036</td>\n",
       "      <td>24.298981</td>\n",
       "      <td>351.914129</td>\n",
       "      <td>0.014064</td>\n",
       "      <td>0.052813</td>\n",
       "      <td>0.079720</td>\n",
       "      <td>0.038803</td>\n",
       "      <td>0.027414</td>\n",
       "      <td>0.007060</td>\n",
       "      <td>...</td>\n",
       "      <td>4.833242</td>\n",
       "      <td>6.146258</td>\n",
       "      <td>33.602542</td>\n",
       "      <td>569.356993</td>\n",
       "      <td>0.022832</td>\n",
       "      <td>0.157336</td>\n",
       "      <td>0.208624</td>\n",
       "      <td>0.065732</td>\n",
       "      <td>0.061867</td>\n",
       "      <td>0.018061</td>\n",
       "    </tr>\n",
       "    <tr>\n",
       "      <th>min</th>\n",
       "      <td>6.981000</td>\n",
       "      <td>9.710000</td>\n",
       "      <td>43.790000</td>\n",
       "      <td>143.500000</td>\n",
       "      <td>0.052630</td>\n",
       "      <td>0.019380</td>\n",
       "      <td>0.000000</td>\n",
       "      <td>0.000000</td>\n",
       "      <td>0.106000</td>\n",
       "      <td>0.049960</td>\n",
       "      <td>...</td>\n",
       "      <td>7.930000</td>\n",
       "      <td>12.020000</td>\n",
       "      <td>50.410000</td>\n",
       "      <td>185.200000</td>\n",
       "      <td>0.071170</td>\n",
       "      <td>0.027290</td>\n",
       "      <td>0.000000</td>\n",
       "      <td>0.000000</td>\n",
       "      <td>0.156500</td>\n",
       "      <td>0.055040</td>\n",
       "    </tr>\n",
       "    <tr>\n",
       "      <th>25%</th>\n",
       "      <td>11.700000</td>\n",
       "      <td>16.170000</td>\n",
       "      <td>75.170000</td>\n",
       "      <td>420.300000</td>\n",
       "      <td>0.086370</td>\n",
       "      <td>0.064920</td>\n",
       "      <td>0.029560</td>\n",
       "      <td>0.020310</td>\n",
       "      <td>0.161900</td>\n",
       "      <td>0.057700</td>\n",
       "      <td>...</td>\n",
       "      <td>13.010000</td>\n",
       "      <td>21.080000</td>\n",
       "      <td>84.110000</td>\n",
       "      <td>515.300000</td>\n",
       "      <td>0.116600</td>\n",
       "      <td>0.147200</td>\n",
       "      <td>0.114500</td>\n",
       "      <td>0.064930</td>\n",
       "      <td>0.250400</td>\n",
       "      <td>0.071460</td>\n",
       "    </tr>\n",
       "    <tr>\n",
       "      <th>50%</th>\n",
       "      <td>13.370000</td>\n",
       "      <td>18.840000</td>\n",
       "      <td>86.240000</td>\n",
       "      <td>551.100000</td>\n",
       "      <td>0.095870</td>\n",
       "      <td>0.092630</td>\n",
       "      <td>0.061540</td>\n",
       "      <td>0.033500</td>\n",
       "      <td>0.179200</td>\n",
       "      <td>0.061540</td>\n",
       "      <td>...</td>\n",
       "      <td>14.970000</td>\n",
       "      <td>25.410000</td>\n",
       "      <td>97.660000</td>\n",
       "      <td>686.500000</td>\n",
       "      <td>0.131300</td>\n",
       "      <td>0.211900</td>\n",
       "      <td>0.226700</td>\n",
       "      <td>0.099930</td>\n",
       "      <td>0.282200</td>\n",
       "      <td>0.080040</td>\n",
       "    </tr>\n",
       "    <tr>\n",
       "      <th>75%</th>\n",
       "      <td>15.780000</td>\n",
       "      <td>21.800000</td>\n",
       "      <td>104.100000</td>\n",
       "      <td>782.700000</td>\n",
       "      <td>0.105300</td>\n",
       "      <td>0.130400</td>\n",
       "      <td>0.130700</td>\n",
       "      <td>0.074000</td>\n",
       "      <td>0.195700</td>\n",
       "      <td>0.066120</td>\n",
       "      <td>...</td>\n",
       "      <td>18.790000</td>\n",
       "      <td>29.720000</td>\n",
       "      <td>125.400000</td>\n",
       "      <td>1084.000000</td>\n",
       "      <td>0.146000</td>\n",
       "      <td>0.339100</td>\n",
       "      <td>0.382900</td>\n",
       "      <td>0.161400</td>\n",
       "      <td>0.317900</td>\n",
       "      <td>0.092080</td>\n",
       "    </tr>\n",
       "    <tr>\n",
       "      <th>max</th>\n",
       "      <td>28.110000</td>\n",
       "      <td>39.280000</td>\n",
       "      <td>188.500000</td>\n",
       "      <td>2501.000000</td>\n",
       "      <td>0.163400</td>\n",
       "      <td>0.345400</td>\n",
       "      <td>0.426800</td>\n",
       "      <td>0.201200</td>\n",
       "      <td>0.304000</td>\n",
       "      <td>0.097440</td>\n",
       "      <td>...</td>\n",
       "      <td>36.040000</td>\n",
       "      <td>49.540000</td>\n",
       "      <td>251.200000</td>\n",
       "      <td>4254.000000</td>\n",
       "      <td>0.222600</td>\n",
       "      <td>1.058000</td>\n",
       "      <td>1.252000</td>\n",
       "      <td>0.291000</td>\n",
       "      <td>0.663800</td>\n",
       "      <td>0.207500</td>\n",
       "    </tr>\n",
       "  </tbody>\n",
       "</table>\n",
       "<p>8 rows × 30 columns</p>\n",
       "</div>"
      ],
      "text/plain": [
       "       radius_mean  texture_mean  perimeter_mean    area_mean  \\\n",
       "count   569.000000    569.000000      569.000000   569.000000   \n",
       "mean     14.127292     19.289649       91.969033   654.889104   \n",
       "std       3.524049      4.301036       24.298981   351.914129   \n",
       "min       6.981000      9.710000       43.790000   143.500000   \n",
       "25%      11.700000     16.170000       75.170000   420.300000   \n",
       "50%      13.370000     18.840000       86.240000   551.100000   \n",
       "75%      15.780000     21.800000      104.100000   782.700000   \n",
       "max      28.110000     39.280000      188.500000  2501.000000   \n",
       "\n",
       "       smoothness_mean  compactness  concavity_mean  concave_mean  \\\n",
       "count       569.000000   569.000000      569.000000    569.000000   \n",
       "mean          0.096360     0.104341        0.088799      0.048919   \n",
       "std           0.014064     0.052813        0.079720      0.038803   \n",
       "min           0.052630     0.019380        0.000000      0.000000   \n",
       "25%           0.086370     0.064920        0.029560      0.020310   \n",
       "50%           0.095870     0.092630        0.061540      0.033500   \n",
       "75%           0.105300     0.130400        0.130700      0.074000   \n",
       "max           0.163400     0.345400        0.426800      0.201200   \n",
       "\n",
       "       symmetry_mean  fractal_mean  ...  radius_worst  texture_worst  \\\n",
       "count     569.000000    569.000000  ...    569.000000     569.000000   \n",
       "mean        0.181162      0.062798  ...     16.269190      25.677223   \n",
       "std         0.027414      0.007060  ...      4.833242       6.146258   \n",
       "min         0.106000      0.049960  ...      7.930000      12.020000   \n",
       "25%         0.161900      0.057700  ...     13.010000      21.080000   \n",
       "50%         0.179200      0.061540  ...     14.970000      25.410000   \n",
       "75%         0.195700      0.066120  ...     18.790000      29.720000   \n",
       "max         0.304000      0.097440  ...     36.040000      49.540000   \n",
       "\n",
       "       perimeter_worst   area_worst  smoothness_worst  compactness_worst  \\\n",
       "count       569.000000   569.000000        569.000000         569.000000   \n",
       "mean        107.261213   880.583128          0.132369           0.254265   \n",
       "std          33.602542   569.356993          0.022832           0.157336   \n",
       "min          50.410000   185.200000          0.071170           0.027290   \n",
       "25%          84.110000   515.300000          0.116600           0.147200   \n",
       "50%          97.660000   686.500000          0.131300           0.211900   \n",
       "75%         125.400000  1084.000000          0.146000           0.339100   \n",
       "max         251.200000  4254.000000          0.222600           1.058000   \n",
       "\n",
       "       concavity_worst  concave_worst  symmetry_worst  fractal_worst  \n",
       "count       569.000000     569.000000      569.000000     569.000000  \n",
       "mean          0.272188       0.114606        0.290076       0.083946  \n",
       "std           0.208624       0.065732        0.061867       0.018061  \n",
       "min           0.000000       0.000000        0.156500       0.055040  \n",
       "25%           0.114500       0.064930        0.250400       0.071460  \n",
       "50%           0.226700       0.099930        0.282200       0.080040  \n",
       "75%           0.382900       0.161400        0.317900       0.092080  \n",
       "max           1.252000       0.291000        0.663800       0.207500  \n",
       "\n",
       "[8 rows x 30 columns]"
      ]
     },
     "execution_count": 216,
     "metadata": {},
     "output_type": "execute_result"
    }
   ],
   "source": [
    "# Quick Look at the Dataset\n",
    "data.describe()"
   ]
  },
  {
   "cell_type": "code",
   "execution_count": 217,
   "id": "e775b294",
   "metadata": {},
   "outputs": [
    {
     "data": {
      "text/plain": [
       "Target               0\n",
       "radius_mean          0\n",
       "texture_mean         0\n",
       "perimeter_mean       0\n",
       "area_mean            0\n",
       "smoothness_mean      0\n",
       "compactness          0\n",
       "concavity_mean       0\n",
       "concave_mean         0\n",
       "symmetry_mean        0\n",
       "fractal_mean         0\n",
       "radius_se            0\n",
       "texture_se           0\n",
       "perimeter_se         0\n",
       "area_se              0\n",
       "smoothness_se        0\n",
       "compactness_se       0\n",
       "concavity_se         0\n",
       "concave_se           0\n",
       "symmetry_se          0\n",
       "fractal_se           0\n",
       "radius_worst         0\n",
       "texture_worst        0\n",
       "perimeter_worst      0\n",
       "area_worst           0\n",
       "smoothness_worst     0\n",
       "compactness_worst    0\n",
       "concavity_worst      0\n",
       "concave_worst        0\n",
       "symmetry_worst       0\n",
       "fractal_worst        0\n",
       "dtype: int64"
      ]
     },
     "execution_count": 217,
     "metadata": {},
     "output_type": "execute_result"
    }
   ],
   "source": [
    "# Their is no Missing values \n",
    "data.isna().sum()"
   ]
  },
  {
   "cell_type": "code",
   "execution_count": 218,
   "id": "8fa14458",
   "metadata": {},
   "outputs": [
    {
     "data": {
      "text/html": [
       "<div>\n",
       "<style scoped>\n",
       "    .dataframe tbody tr th:only-of-type {\n",
       "        vertical-align: middle;\n",
       "    }\n",
       "\n",
       "    .dataframe tbody tr th {\n",
       "        vertical-align: top;\n",
       "    }\n",
       "\n",
       "    .dataframe thead th {\n",
       "        text-align: right;\n",
       "    }\n",
       "</style>\n",
       "<table border=\"1\" class=\"dataframe\">\n",
       "  <thead>\n",
       "    <tr style=\"text-align: right;\">\n",
       "      <th></th>\n",
       "      <th>Target</th>\n",
       "      <th>radius_mean</th>\n",
       "      <th>texture_mean</th>\n",
       "      <th>perimeter_mean</th>\n",
       "      <th>area_mean</th>\n",
       "      <th>smoothness_mean</th>\n",
       "      <th>compactness</th>\n",
       "      <th>concavity_mean</th>\n",
       "      <th>concave_mean</th>\n",
       "      <th>symmetry_mean</th>\n",
       "      <th>...</th>\n",
       "      <th>radius_worst</th>\n",
       "      <th>texture_worst</th>\n",
       "      <th>perimeter_worst</th>\n",
       "      <th>area_worst</th>\n",
       "      <th>smoothness_worst</th>\n",
       "      <th>compactness_worst</th>\n",
       "      <th>concavity_worst</th>\n",
       "      <th>concave_worst</th>\n",
       "      <th>symmetry_worst</th>\n",
       "      <th>fractal_worst</th>\n",
       "    </tr>\n",
       "  </thead>\n",
       "  <tbody>\n",
       "    <tr>\n",
       "      <th>0</th>\n",
       "      <td>1</td>\n",
       "      <td>17.99</td>\n",
       "      <td>10.38</td>\n",
       "      <td>122.80</td>\n",
       "      <td>1001.0</td>\n",
       "      <td>0.11840</td>\n",
       "      <td>0.27760</td>\n",
       "      <td>0.3001</td>\n",
       "      <td>0.14710</td>\n",
       "      <td>0.2419</td>\n",
       "      <td>...</td>\n",
       "      <td>25.38</td>\n",
       "      <td>17.33</td>\n",
       "      <td>184.60</td>\n",
       "      <td>2019.0</td>\n",
       "      <td>0.1622</td>\n",
       "      <td>0.6656</td>\n",
       "      <td>0.7119</td>\n",
       "      <td>0.2654</td>\n",
       "      <td>0.4601</td>\n",
       "      <td>0.11890</td>\n",
       "    </tr>\n",
       "    <tr>\n",
       "      <th>1</th>\n",
       "      <td>1</td>\n",
       "      <td>20.57</td>\n",
       "      <td>17.77</td>\n",
       "      <td>132.90</td>\n",
       "      <td>1326.0</td>\n",
       "      <td>0.08474</td>\n",
       "      <td>0.07864</td>\n",
       "      <td>0.0869</td>\n",
       "      <td>0.07017</td>\n",
       "      <td>0.1812</td>\n",
       "      <td>...</td>\n",
       "      <td>24.99</td>\n",
       "      <td>23.41</td>\n",
       "      <td>158.80</td>\n",
       "      <td>1956.0</td>\n",
       "      <td>0.1238</td>\n",
       "      <td>0.1866</td>\n",
       "      <td>0.2416</td>\n",
       "      <td>0.1860</td>\n",
       "      <td>0.2750</td>\n",
       "      <td>0.08902</td>\n",
       "    </tr>\n",
       "    <tr>\n",
       "      <th>2</th>\n",
       "      <td>1</td>\n",
       "      <td>19.69</td>\n",
       "      <td>21.25</td>\n",
       "      <td>130.00</td>\n",
       "      <td>1203.0</td>\n",
       "      <td>0.10960</td>\n",
       "      <td>0.15990</td>\n",
       "      <td>0.1974</td>\n",
       "      <td>0.12790</td>\n",
       "      <td>0.2069</td>\n",
       "      <td>...</td>\n",
       "      <td>23.57</td>\n",
       "      <td>25.53</td>\n",
       "      <td>152.50</td>\n",
       "      <td>1709.0</td>\n",
       "      <td>0.1444</td>\n",
       "      <td>0.4245</td>\n",
       "      <td>0.4504</td>\n",
       "      <td>0.2430</td>\n",
       "      <td>0.3613</td>\n",
       "      <td>0.08758</td>\n",
       "    </tr>\n",
       "    <tr>\n",
       "      <th>3</th>\n",
       "      <td>1</td>\n",
       "      <td>11.42</td>\n",
       "      <td>20.38</td>\n",
       "      <td>77.58</td>\n",
       "      <td>386.1</td>\n",
       "      <td>0.14250</td>\n",
       "      <td>0.28390</td>\n",
       "      <td>0.2414</td>\n",
       "      <td>0.10520</td>\n",
       "      <td>0.2597</td>\n",
       "      <td>...</td>\n",
       "      <td>14.91</td>\n",
       "      <td>26.50</td>\n",
       "      <td>98.87</td>\n",
       "      <td>567.7</td>\n",
       "      <td>0.2098</td>\n",
       "      <td>0.8663</td>\n",
       "      <td>0.6869</td>\n",
       "      <td>0.2575</td>\n",
       "      <td>0.6638</td>\n",
       "      <td>0.17300</td>\n",
       "    </tr>\n",
       "    <tr>\n",
       "      <th>4</th>\n",
       "      <td>1</td>\n",
       "      <td>20.29</td>\n",
       "      <td>14.34</td>\n",
       "      <td>135.10</td>\n",
       "      <td>1297.0</td>\n",
       "      <td>0.10030</td>\n",
       "      <td>0.13280</td>\n",
       "      <td>0.1980</td>\n",
       "      <td>0.10430</td>\n",
       "      <td>0.1809</td>\n",
       "      <td>...</td>\n",
       "      <td>22.54</td>\n",
       "      <td>16.67</td>\n",
       "      <td>152.20</td>\n",
       "      <td>1575.0</td>\n",
       "      <td>0.1374</td>\n",
       "      <td>0.2050</td>\n",
       "      <td>0.4000</td>\n",
       "      <td>0.1625</td>\n",
       "      <td>0.2364</td>\n",
       "      <td>0.07678</td>\n",
       "    </tr>\n",
       "  </tbody>\n",
       "</table>\n",
       "<p>5 rows × 31 columns</p>\n",
       "</div>"
      ],
      "text/plain": [
       "   Target  radius_mean  texture_mean  perimeter_mean  area_mean  \\\n",
       "0       1        17.99         10.38          122.80     1001.0   \n",
       "1       1        20.57         17.77          132.90     1326.0   \n",
       "2       1        19.69         21.25          130.00     1203.0   \n",
       "3       1        11.42         20.38           77.58      386.1   \n",
       "4       1        20.29         14.34          135.10     1297.0   \n",
       "\n",
       "   smoothness_mean  compactness  concavity_mean  concave_mean  symmetry_mean  \\\n",
       "0          0.11840      0.27760          0.3001       0.14710         0.2419   \n",
       "1          0.08474      0.07864          0.0869       0.07017         0.1812   \n",
       "2          0.10960      0.15990          0.1974       0.12790         0.2069   \n",
       "3          0.14250      0.28390          0.2414       0.10520         0.2597   \n",
       "4          0.10030      0.13280          0.1980       0.10430         0.1809   \n",
       "\n",
       "   ...  radius_worst  texture_worst  perimeter_worst  area_worst  \\\n",
       "0  ...         25.38          17.33           184.60      2019.0   \n",
       "1  ...         24.99          23.41           158.80      1956.0   \n",
       "2  ...         23.57          25.53           152.50      1709.0   \n",
       "3  ...         14.91          26.50            98.87       567.7   \n",
       "4  ...         22.54          16.67           152.20      1575.0   \n",
       "\n",
       "   smoothness_worst  compactness_worst  concavity_worst  concave_worst  \\\n",
       "0            0.1622             0.6656           0.7119         0.2654   \n",
       "1            0.1238             0.1866           0.2416         0.1860   \n",
       "2            0.1444             0.4245           0.4504         0.2430   \n",
       "3            0.2098             0.8663           0.6869         0.2575   \n",
       "4            0.1374             0.2050           0.4000         0.1625   \n",
       "\n",
       "   symmetry_worst  fractal_worst  \n",
       "0          0.4601        0.11890  \n",
       "1          0.2750        0.08902  \n",
       "2          0.3613        0.08758  \n",
       "3          0.6638        0.17300  \n",
       "4          0.2364        0.07678  \n",
       "\n",
       "[5 rows x 31 columns]"
      ]
     },
     "execution_count": 218,
     "metadata": {},
     "output_type": "execute_result"
    }
   ],
   "source": [
    "# Encoding the Target Variable(M as 1 and B as 0)\n",
    "Labelling = LabelEncoder()\n",
    "data['Target'] = Labelling.fit_transform(data['Target'])\n",
    "data.head()"
   ]
  },
  {
   "cell_type": "code",
   "execution_count": 219,
   "id": "7376d2b8",
   "metadata": {},
   "outputs": [],
   "source": [
    "X = data.drop(columns = ['Target'])\n",
    "Y = data['Target']"
   ]
  },
  {
   "cell_type": "code",
   "execution_count": 220,
   "id": "2ae0ad3f",
   "metadata": {},
   "outputs": [
    {
     "data": {
      "text/plain": [
       "<AxesSubplot:>"
      ]
     },
     "execution_count": 220,
     "metadata": {},
     "output_type": "execute_result"
    },
    {
     "data": {
      "image/png": "[encoded data removed]",
      "text/plain": [
       "<Figure size 432x288 with 1 Axes>"
      ]
     },
     "metadata": {
      "needs_background": "light"
     },
     "output_type": "display_data"
    }
   ],
   "source": [
    "# Visualizing the target Varible \n",
    "Y.value_counts().plot(kind='bar')"
   ]
  },
  {
   "cell_type": "code",
   "execution_count": 221,
   "id": "e1b77ee8",
   "metadata": {},
   "outputs": [],
   "source": [
    "# performing train test split \n",
    "X_train, X_test, y_train, Y_test = train_test_split(\n",
    "   X, Y, test_size=0.20, random_state=42)"
   ]
  },
  {
   "cell_type": "code",
   "execution_count": 222,
   "id": "39684b0c",
   "metadata": {},
   "outputs": [],
   "source": [
    "# Scaling the Traning Data and Applying same tranformation to Test Data\n",
    "Scaling = MinMaxScaler()\n",
    "X_train = Scaling.fit_transform(X_train)\n",
    "X_test = Scaling.transform(X_test)"
   ]
  },
  {
   "cell_type": "markdown",
   "id": "fe2e3be7",
   "metadata": {},
   "source": [
    "**LOGISTICS CLASSIFIER**"
   ]
  },
  {
   "cell_type": "code",
   "execution_count": 223,
   "id": "a8e43dfc",
   "metadata": {},
   "outputs": [],
   "source": [
    "Logistic_classifier = LogisticRegression(random_state=42)\n",
    "t1 = time.time()\n",
    "Logistic_model = Logistic_classifier.fit(X_train, y_train)\n",
    "t2 = time.time()\n",
    "Logistics_time = t2-t1 "
   ]
  },
  {
   "cell_type": "markdown",
   "id": "241ba4c7",
   "metadata": {},
   "source": [
    "**SVM CLASSIFIER**"
   ]
  },
  {
   "cell_type": "code",
   "execution_count": 224,
   "id": "faab84c1",
   "metadata": {},
   "outputs": [],
   "source": [
    "SVM_Classifier = SVC(random_state = 42)\n",
    "t1 = time.time()\n",
    "SVM_model = SVM_Classifier.fit(X_train, y_train)\n",
    "t2 = time.time()\n",
    "svm_time = t2-t1 "
   ]
  },
  {
   "cell_type": "markdown",
   "id": "99686b97",
   "metadata": {},
   "source": [
    "**DECISON TREE CLASSIFIER**"
   ]
  },
  {
   "cell_type": "code",
   "execution_count": 225,
   "id": "31817890",
   "metadata": {},
   "outputs": [],
   "source": [
    "Decision_tree_classifier = DecisionTreeClassifier(random_state = 42)\n",
    "t1 = time.time()\n",
    "Decision_tree_model = Decision_tree_classifier.fit(X_train, y_train)\n",
    "t2 = time.time()\n",
    "dt_time = t2-t1 "
   ]
  },
  {
   "cell_type": "markdown",
   "id": "02925ce6",
   "metadata": {},
   "source": [
    "**RANDOM FOREST CLASSIFIER**"
   ]
  },
  {
   "cell_type": "code",
   "execution_count": 226,
   "id": "8b144897",
   "metadata": {},
   "outputs": [],
   "source": [
    "Random_classifier = RandomForestClassifier(random_state = 42)\n",
    "t1 = time.time()\n",
    "Random_forest_model = Random_classifier.fit(X_train, y_train)\n",
    "t2 = time.time()\n",
    "rf_time = t2-t1 "
   ]
  },
  {
   "cell_type": "markdown",
   "id": "9e6268f1",
   "metadata": {},
   "source": [
    "**TRAINING TIME OF DIFFERENT CLASSIFIERS**"
   ]
  },
  {
   "cell_type": "code",
   "execution_count": 227,
   "id": "4ac7d7db",
   "metadata": {},
   "outputs": [
    {
     "name": "stdout",
     "output_type": "stream",
     "text": [
      "+------------------------+---------------+\n",
      "|       Classifier       | Training Time |\n",
      "+------------------------+---------------+\n",
      "|  Logistics Regression  |     0.0249    |\n",
      "| Support Vector Machine |     0.013     |\n",
      "|     Decision Tree      |     0.0289    |\n",
      "|     Random forest      |     0.386     |\n",
      "+------------------------+---------------+\n"
     ]
    }
   ],
   "source": [
    "t = PrettyTable(['Classifier', 'Training Time'])\n",
    "t.add_row(['Logistics Regression', round(Logistics_time, 4)])\n",
    "t.add_row(['Support Vector Machine', round(svm_time, 4)])\n",
    "t.add_row(['Decision Tree', round(dt_time, 4)])\n",
    "t.add_row(['Random forest', round(rf_time, 4)])\n",
    "print(t)"
   ]
  },
  {
   "cell_type": "code",
   "execution_count": 228,
   "id": "fdc91caa",
   "metadata": {},
   "outputs": [
    {
     "name": "stdout",
     "output_type": "stream",
     "text": [
      "+------------------------+-------------------+-----------+-------------------+\n",
      "|       Classifier       |      Accuracy     | precision |       Recall      |\n",
      "+------------------------+-------------------+-----------+-------------------+\n",
      "|  Logistics Regression  |       98.25       |   95.35   |       100.0       |\n",
      "| Support Vector Machine |       97.37       |   95.35   | 97.61999999999999 |\n",
      "|     Decision Tree      | 94.74000000000001 |   93.02   |       93.02       |\n",
      "|     Random forest      |       96.49       |   93.02   |       97.56       |\n",
      "+------------------------+-------------------+-----------+-------------------+\n"
     ]
    }
   ],
   "source": [
    "from prettytable import PrettyTable\n",
    "t = PrettyTable(['Classifier', 'Accuracy', 'precision', 'Recall'])\n",
    "t.add_row(['Logistics Regression', round(accuracy_score(Y_test, Logistic_model.predict(X_test)), 4) *100\n",
    "                       , round(recall_score(Y_test, Logistic_model.predict(X_test)), 4) *100\n",
    "                       , round(precision_score(Y_test, Logistic_model.predict(X_test)), 4) *100])\n",
    "\n",
    "t.add_row(['Support Vector Machine', round(accuracy_score(Y_test, SVM_model.predict(X_test)), 4) *100\n",
    "                       , round(recall_score(Y_test, SVM_model.predict(X_test)), 4) *100\n",
    "                       , round(precision_score(Y_test, SVM_model.predict(X_test)), 4) *100])\n",
    "\n",
    "t.add_row(['Decision Tree', round(accuracy_score(Y_test, Decision_tree_model.predict(X_test)), 4) *100\n",
    "                       , round(recall_score(Y_test, Decision_tree_model.predict(X_test)), 4) *100\n",
    "                       , round(precision_score(Y_test, Decision_tree_model.predict(X_test)), 4) *100])\n",
    "\n",
    "t.add_row(['Random forest', round(accuracy_score(Y_test, Random_forest_model.predict(X_test)), 4) *100\n",
    "                       , round(recall_score(Y_test, Random_forest_model.predict(X_test)), 4) *100\n",
    "                       , round(precision_score(Y_test, Random_forest_model.predict(X_test)), 4) *100])\n",
    "\n",
    "\n",
    "print(t)\n"
   ]
  },
  {
   "cell_type": "markdown",
   "id": "5dfa7182",
   "metadata": {},
   "source": [
    "**PCA TO REDUCE DIMENSIONALITY WITH AN EXPLAINED VARIANCE OF 95%**"
   ]
  },
  {
   "cell_type": "code",
   "execution_count": 229,
   "id": "fc103bce",
   "metadata": {},
   "outputs": [],
   "source": [
    "pca = PCA(n_components = 0.95).fit(X_train)\n",
    "X_train_reduced = pca.transform(X_train)\n",
    "X_test_reduced = pca.transform(X_test)"
   ]
  },
  {
   "cell_type": "markdown",
   "id": "93ffcb58",
   "metadata": {},
   "source": [
    "**SHOWING EXPLAINED VARIANCE (UNTIL 0.95) OF EACH COMPONENT**"
   ]
  },
  {
   "cell_type": "code",
   "execution_count": 230,
   "id": "75fe0614",
   "metadata": {},
   "outputs": [
    {
     "name": "stdout",
     "output_type": "stream",
     "text": [
      "+--------------+--------------------+\n",
      "| n_components | Explained_variance |\n",
      "+--------------+--------------------+\n",
      "|      0       | 51.23360798091058  |\n",
      "|      1       |  69.8259870834621  |\n",
      "|      2       | 77.03297241569138  |\n",
      "|      3       | 83.42367709970917  |\n",
      "|      4       | 87.41531046425364  |\n",
      "|      5       | 90.78156463954696  |\n",
      "|      6       | 92.35603834496261  |\n",
      "|      7       | 93.68718716555422  |\n",
      "|      8       | 94.69271452491041  |\n",
      "|      9       | 95.67592643843032  |\n",
      "+--------------+--------------------+\n"
     ]
    }
   ],
   "source": [
    "x = PrettyTable()\n",
    "column_names = [\"n_components\", \"Explained_variance\"]\n",
    "x.add_column(column_names[0], list(range(0,10)))\n",
    "x.add_column(column_names[1], list(np.cumsum(pca.explained_variance_ratio_)*100))\n",
    "print(x)"
   ]
  },
  {
   "cell_type": "markdown",
   "id": "97d4f145",
   "metadata": {},
   "source": [
    "**COMPONENTS VS EXPLAINED VARIANCE DISTRIBUTION**"
   ]
  },
  {
   "cell_type": "code",
   "execution_count": 242,
   "id": "420abe0f",
   "metadata": {},
   "outputs": [
    {
     "data": {
      "image/png": "[encoded data removed]",
      "text/plain": [
       "<Figure size 720x504 with 1 Axes>"
      ]
     },
     "metadata": {
      "needs_background": "light"
     },
     "output_type": "display_data"
    }
   ],
   "source": [
    "pca = PCA().fit(X_train)\n",
    "\n",
    "plt.figure(figsize=(10,7))\n",
    "plt.plot(np.cumsum(pca.explained_variance_ratio_), color='k', lw=2)\n",
    "plt.xlabel('Number of components')\n",
    "plt.ylabel('Total explained variance')\n",
    "plt.xlim(0, 29)\n",
    "plt.yticks(np.arange(0, 1.1, 0.1))\n",
    "plt.axvline(9, c='b')\n",
    "plt.axhline(0.95, c='r')\n",
    "plt.xticks(range(0,26))\n",
    "plt.show();"
   ]
  },
  {
   "cell_type": "markdown",
   "id": "54dafd3a",
   "metadata": {},
   "source": [
    "**TRANING DIFFERENT CLASSIFIERS WITH REDUCED DIMENSION (VARIANCE=0.95)**"
   ]
  },
  {
   "cell_type": "code",
   "execution_count": 232,
   "id": "8cfc30d5",
   "metadata": {},
   "outputs": [],
   "source": [
    "Logistic_classifier = LogisticRegression(random_state=42)\n",
    "t1 = time.time()\n",
    "Logistic_model = Logistic_classifier.fit(X_train_reduced, y_train)\n",
    "t2 = time.time()\n",
    "Logistics_time = t2-t1 \n",
    "\n",
    "SVM_Classifier = SVC(random_state = 42)\n",
    "t1 = time.time()\n",
    "SVM_model = SVM_Classifier.fit(X_train_reduced, y_train)\n",
    "t2 = time.time()\n",
    "svm_time = t2-t1 \n",
    "\n",
    "Decision_tree_classifier = DecisionTreeClassifier(random_state = 42)\n",
    "t1 = time.time()\n",
    "Decision_tree_model = Decision_tree_classifier.fit(X_train_reduced, y_train)\n",
    "t2 = time.time()\n",
    "dt_time = t2-t1 \n",
    "\n",
    "Random_classifier = RandomForestClassifier(random_state = 42)\n",
    "t1 = time.time()\n",
    "Random_forest_model = Random_classifier.fit(X_train_reduced, y_train)\n",
    "t2 = time.time()\n",
    "rf_time = t2-t1 "
   ]
  },
  {
   "cell_type": "markdown",
   "id": "8f86388f",
   "metadata": {},
   "source": [
    "**RUN TIME WIH REDUCED DIMENSION (VARIANCE = 0.95)**"
   ]
  },
  {
   "cell_type": "code",
   "execution_count": 233,
   "id": "760a3010",
   "metadata": {},
   "outputs": [
    {
     "name": "stdout",
     "output_type": "stream",
     "text": [
      "+------------------------+---------------+\n",
      "|       Classifier       | Training Time |\n",
      "+------------------------+---------------+\n",
      "|  Logistics Regression  |     0.006     |\n",
      "| Support Vector Machine |     0.004     |\n",
      "|     Decision Tree      |     0.004     |\n",
      "|     Random forest      |     0.1646    |\n",
      "+------------------------+---------------+\n"
     ]
    }
   ],
   "source": [
    "t = PrettyTable(['Classifier', 'Training Time'])\n",
    "t.add_row(['Logistics Regression', round(Logistics_tim, 4)])\n",
    "t.add_row(['Support Vector Machine', round(svm_time, 4)])\n",
    "t.add_row(['Decision Tree', round(dt_time, 4)])\n",
    "t.add_row(['Random forest', round(rf_time, 4)])\n",
    "print(t)"
   ]
  },
  {
   "cell_type": "markdown",
   "id": "3c044aed",
   "metadata": {},
   "source": [
    "**MODEL EVALUATION (VARIANCE = 0.95)**"
   ]
  },
  {
   "cell_type": "code",
   "execution_count": 234,
   "id": "22cb0e1b",
   "metadata": {},
   "outputs": [
    {
     "name": "stdout",
     "output_type": "stream",
     "text": [
      "+------------------------+-------------------+-----------+-------------------+\n",
      "|       Classifier       |      Accuracy     | precision |       Recall      |\n",
      "+------------------------+-------------------+-----------+-------------------+\n",
      "|  Logistics Regression  |       98.25       |   95.35   |       100.0       |\n",
      "| Support Vector Machine |       97.37       |   95.35   | 97.61999999999999 |\n",
      "|     Decision Tree      | 92.97999999999999 |   88.37   | 92.67999999999999 |\n",
      "|     Random forest      | 94.74000000000001 |   93.02   |       93.02       |\n",
      "+------------------------+-------------------+-----------+-------------------+\n"
     ]
    }
   ],
   "source": [
    "t = PrettyTable(['Classifier', 'Accuracy', 'precision', 'Recall'])\n",
    "t.add_row(['Logistics Regression', round(accuracy_score(Y_test, Logistic_model.predict(X_test_reduced)), 4) *100\n",
    "                       , round(recall_score(Y_test, Logistic_model.predict(X_test_reduced)), 4) *100\n",
    "                       , round(precision_score(Y_test, Logistic_model.predict(X_test_reduced)), 4) *100])\n",
    "\n",
    "t.add_row(['Support Vector Machine', round(accuracy_score(Y_test, SVM_model.predict(X_test_reduced)), 4) *100\n",
    "                       , round(recall_score(Y_test, SVM_model.predict(X_test_reduced)), 4) *100\n",
    "                       , round(precision_score(Y_test, SVM_model.predict(X_test_reduced)), 4) *100])\n",
    "\n",
    "t.add_row(['Decision Tree', round(accuracy_score(Y_test, Decision_tree_model.predict(X_test_reduced)), 4) *100\n",
    "                       , round(recall_score(Y_test, Decision_tree_model.predict(X_test_reduced)), 4) *100\n",
    "                       , round(precision_score(Y_test, Decision_tree_model.predict(X_test_reduced)), 4) *100])\n",
    "\n",
    "t.add_row(['Random forest', round(accuracy_score(Y_test, Random_forest_model.predict(X_test_reduced)), 4) *100\n",
    "                       , round(recall_score(Y_test, Random_forest_model.predict(X_test_reduced)), 4) *100\n",
    "                       , round(precision_score(Y_test, Random_forest_model.predict(X_test_reduced)), 4) *100])\n",
    "\n",
    "\n",
    "print(t)"
   ]
  },
  {
   "cell_type": "markdown",
   "id": "aac4c703",
   "metadata": {},
   "source": [
    "**PERFORMING PCA WITH 2 COMPONENTS**"
   ]
  },
  {
   "cell_type": "code",
   "execution_count": 235,
   "id": "acf10741",
   "metadata": {},
   "outputs": [],
   "source": [
    "pca = PCA(n_components = 2).fit(X_train)\n",
    "X_train_transform = pca.transform(X_train)\n",
    "X_test_transform = pca.transform(X_test)"
   ]
  },
  {
   "cell_type": "code",
   "execution_count": 236,
   "id": "8ccb05ff",
   "metadata": {},
   "outputs": [],
   "source": [
    "Logistic_classifier = LogisticRegression(random_state=42)\n",
    "t1 = time.time()\n",
    "Logistic_model = Logistic_classifier.fit(X_train_transform, y_train)\n",
    "t2 = time.time()\n",
    "Logistics_time = t2-t1 \n",
    "\n",
    "SVM_Classifier = SVC(random_state = 42)\n",
    "t1 = time.time()\n",
    "SVM_model = SVM_Classifier.fit(X_train_transform, y_train)\n",
    "t2 = time.time()\n",
    "svm_time = t2-t1 \n",
    "\n",
    "Decision_tree_classifier = DecisionTreeClassifier(random_state = 42)\n",
    "t1 = time.time()\n",
    "Decision_tree_model = Decision_tree_classifier.fit(X_train_transform, y_train)\n",
    "t2 = time.time()\n",
    "dt_time = t2-t1 \n",
    "\n",
    "Random_classifier = RandomForestClassifier(random_state = 42)\n",
    "t1 = time.time()\n",
    "Random_forest_model = Random_classifier.fit(X_train_transform, y_train)\n",
    "t2 = time.time()\n",
    "rf_time = t2-t1 "
   ]
  },
  {
   "cell_type": "markdown",
   "id": "c3546dd3",
   "metadata": {},
   "source": [
    "**RUN TIME WIH REDUCED DIMENSION (n_components = 2)**"
   ]
  },
  {
   "cell_type": "code",
   "execution_count": 237,
   "id": "6fbaa8c4",
   "metadata": {},
   "outputs": [
    {
     "name": "stdout",
     "output_type": "stream",
     "text": [
      "+------------------------+---------------+\n",
      "|       Classifier       | Training Time |\n",
      "+------------------------+---------------+\n",
      "|  Logistics Regression  |     0.003     |\n",
      "| Support Vector Machine |     0.004     |\n",
      "|     Decision Tree      |     0.002     |\n",
      "|     Random forest      |     0.1277    |\n",
      "+------------------------+---------------+\n"
     ]
    }
   ],
   "source": [
    "t = PrettyTable(['Classifier', 'Training Time'])\n",
    "t.add_row(['Logistics Regression', round(Logistics_time, 4)])\n",
    "t.add_row(['Support Vector Machine', round(svm_time, 4)])\n",
    "t.add_row(['Decision Tree', round(dt_time, 4)])\n",
    "t.add_row(['Random forest', round(rf_time, 4)])\n",
    "print(t)"
   ]
  },
  {
   "cell_type": "markdown",
   "id": "487dc861",
   "metadata": {},
   "source": [
    "**MODEL EVALUATION (n_components = 2)**"
   ]
  },
  {
   "cell_type": "code",
   "execution_count": 238,
   "id": "4bf09590",
   "metadata": {
    "scrolled": true
   },
   "outputs": [
    {
     "name": "stdout",
     "output_type": "stream",
     "text": [
      "+------------------------+----------+-----------+--------+\n",
      "|       Classifier       | Accuracy | precision | Recall |\n",
      "+------------------------+----------+-----------+--------+\n",
      "|  Logistics Regression  |  96.49   |    90.7   | 100.0  |\n",
      "| Support Vector Machine |  95.61   |    90.7   |  97.5  |\n",
      "|     Decision Tree      |  95.61   |    90.7   |  97.5  |\n",
      "|     Random forest      |  97.37   |   93.02   | 100.0  |\n",
      "+------------------------+----------+-----------+--------+\n"
     ]
    }
   ],
   "source": [
    "t = PrettyTable(['Classifier', 'Accuracy', 'precision', 'Recall'])\n",
    "t.add_row(['Logistics Regression', round(accuracy_score(Y_test, Logistic_model.predict(X_test_transform)), 4) *100\n",
    "                       , round(recall_score(Y_test, Logistic_model.predict(X_test_transform)), 4) *100\n",
    "                       , round(precision_score(Y_test, Logistic_model.predict(X_test_transform)), 4) *100])\n",
    "\n",
    "t.add_row(['Support Vector Machine', round(accuracy_score(Y_test, SVM_model.predict(X_test_transform)), 4) *100\n",
    "                       , round(recall_score(Y_test, SVM_model.predict(X_test_transform)), 4) *100\n",
    "                       , round(precision_score(Y_test, SVM_model.predict(X_test_transform)), 4) *100])\n",
    "\n",
    "t.add_row(['Decision Tree', round(accuracy_score(Y_test, Decision_tree_model.predict(X_test_transform)), 4) *100\n",
    "                       , round(recall_score(Y_test, Decision_tree_model.predict(X_test_transform)), 4) *100\n",
    "                       , round(precision_score(Y_test, Decision_tree_model.predict(X_test_transform)), 4) *100])\n",
    "\n",
    "t.add_row(['Random forest', round(accuracy_score(Y_test, Random_forest_model.predict(X_test_transform)), 4) *100\n",
    "                       , round(recall_score(Y_test, Random_forest_model.predict(X_test_transform)), 4) *100\n",
    "                       , round(precision_score(Y_test, Random_forest_model.predict(X_test_transform)), 4) *100])\n",
    "\n",
    "\n",
    "print(t)"
   ]
  },
  {
   "cell_type": "code",
   "execution_count": 240,
   "id": "fb5194a1",
   "metadata": {},
   "outputs": [
    {
     "data": {
      "text/plain": [
       "Text(0, 0.5, 'Second Principal Component')"
      ]
     },
     "execution_count": 240,
     "metadata": {},
     "output_type": "execute_result"
    },
    {
     "data": {
      "image/png": "[encoded data removed]",
      "text/plain": [
       "<Figure size 576x432 with 1 Axes>"
      ]
     },
     "metadata": {
      "needs_background": "light"
     },
     "output_type": "display_data"
    }
   ],
   "source": [
    "plt.figure(figsize=(8,6))\n",
    "plt.scatter(X_train[:,0],X_train[:,1],c=y_train,cmap='plasma')\n",
    "plt.xlabel('First principal component')\n",
    "plt.ylabel('Second Principal Component')"
   ]
  },
  {
   "cell_type": "code",
   "execution_count": null,
   "id": "e3bf3400",
   "metadata": {},
   "outputs": [],
   "source": []
  }
 ],
 "metadata": {
  "kernelspec": {
   "display_name": "Python 3",
   "language": "python",
   "name": "python3"
  },
  "language_info": {
   "codemirror_mode": {
    "name": "ipython",
    "version": 3
   },
   "file_extension": ".py",
   "mimetype": "text/x-python",
   "name": "python",
   "nbconvert_exporter": "python",
   "pygments_lexer": "ipython3",
   "version": "3.8.8"
  }
 },
 "nbformat": 4,
 "nbformat_minor": 5
}
